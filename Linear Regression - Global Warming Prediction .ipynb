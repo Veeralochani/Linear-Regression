{
 "cells": [
  {
   "cell_type": "markdown",
   "metadata": {},
   "source": [
    "# Linear Regression with python\n",
    "Predictive analysis using supervised machine learning"
   ]
  },
  {
   "cell_type": "markdown",
   "metadata": {},
   "source": [
    "### Import the libraries"
   ]
  },
  {
   "cell_type": "code",
   "execution_count": 1,
   "metadata": {},
   "outputs": [],
   "source": [
    "import warnings\n",
    "warnings.simplefilter('ignore')"
   ]
  },
  {
   "cell_type": "markdown",
   "metadata": {},
   "source": [
    "### Import numpy and pandas"
   ]
  },
  {
   "cell_type": "code",
   "execution_count": 2,
   "metadata": {},
   "outputs": [],
   "source": [
    "import numpy as np\n",
    "import pandas as pd"
   ]
  },
  {
   "cell_type": "markdown",
   "metadata": {},
   "source": [
    "### Import Data visualisation library"
   ]
  },
  {
   "cell_type": "code",
   "execution_count": 3,
   "metadata": {},
   "outputs": [],
   "source": [
    "#import data visulaisation library\n",
    "import matplotlib.pyplot as plt\n",
    "%matplotlib inline"
   ]
  },
  {
   "cell_type": "markdown",
   "metadata": {},
   "source": [
    "### Import the dataset"
   ]
  },
  {
   "cell_type": "code",
   "execution_count": 4,
   "metadata": {
    "scrolled": true
   },
   "outputs": [],
   "source": [
    "df=pd.read_csv(r'C:\\Users\\VEERARAMESH\\OneDrive\\Documents\\ALL PROJECT RELATED STUFF/Interest_Over_Time.csv')"
   ]
  },
  {
   "cell_type": "code",
   "execution_count": 5,
   "metadata": {
    "scrolled": false
   },
   "outputs": [
    {
     "data": {
      "text/html": [
       "<div>\n",
       "<style scoped>\n",
       "    .dataframe tbody tr th:only-of-type {\n",
       "        vertical-align: middle;\n",
       "    }\n",
       "\n",
       "    .dataframe tbody tr th {\n",
       "        vertical-align: top;\n",
       "    }\n",
       "\n",
       "    .dataframe thead th {\n",
       "        text-align: right;\n",
       "    }\n",
       "</style>\n",
       "<table border=\"1\" class=\"dataframe\">\n",
       "  <thead>\n",
       "    <tr style=\"text-align: right;\">\n",
       "      <th></th>\n",
       "      <th>Month</th>\n",
       "      <th>Climate change: (Worldwide)</th>\n",
       "      <th>Global Warming: (Worldwide)</th>\n",
       "    </tr>\n",
       "  </thead>\n",
       "  <tbody>\n",
       "    <tr>\n",
       "      <th>0</th>\n",
       "      <td>2004-01</td>\n",
       "      <td>28</td>\n",
       "      <td>21</td>\n",
       "    </tr>\n",
       "    <tr>\n",
       "      <th>1</th>\n",
       "      <td>2004-02</td>\n",
       "      <td>35</td>\n",
       "      <td>22</td>\n",
       "    </tr>\n",
       "    <tr>\n",
       "      <th>2</th>\n",
       "      <td>2004-03</td>\n",
       "      <td>34</td>\n",
       "      <td>21</td>\n",
       "    </tr>\n",
       "    <tr>\n",
       "      <th>3</th>\n",
       "      <td>2004-04</td>\n",
       "      <td>28</td>\n",
       "      <td>23</td>\n",
       "    </tr>\n",
       "    <tr>\n",
       "      <th>4</th>\n",
       "      <td>2004-05</td>\n",
       "      <td>37</td>\n",
       "      <td>26</td>\n",
       "    </tr>\n",
       "    <tr>\n",
       "      <th>...</th>\n",
       "      <td>...</td>\n",
       "      <td>...</td>\n",
       "      <td>...</td>\n",
       "    </tr>\n",
       "    <tr>\n",
       "      <th>208</th>\n",
       "      <td>2021-05</td>\n",
       "      <td>20</td>\n",
       "      <td>7</td>\n",
       "    </tr>\n",
       "    <tr>\n",
       "      <th>209</th>\n",
       "      <td>2021-06</td>\n",
       "      <td>17</td>\n",
       "      <td>7</td>\n",
       "    </tr>\n",
       "    <tr>\n",
       "      <th>210</th>\n",
       "      <td>2021-07</td>\n",
       "      <td>16</td>\n",
       "      <td>6</td>\n",
       "    </tr>\n",
       "    <tr>\n",
       "      <th>211</th>\n",
       "      <td>2021-08</td>\n",
       "      <td>19</td>\n",
       "      <td>7</td>\n",
       "    </tr>\n",
       "    <tr>\n",
       "      <th>212</th>\n",
       "      <td>2021-09</td>\n",
       "      <td>21</td>\n",
       "      <td>7</td>\n",
       "    </tr>\n",
       "  </tbody>\n",
       "</table>\n",
       "<p>213 rows × 3 columns</p>\n",
       "</div>"
      ],
      "text/plain": [
       "       Month  Climate change: (Worldwide)  Global Warming: (Worldwide)\n",
       "0    2004-01                           28                           21\n",
       "1    2004-02                           35                           22\n",
       "2    2004-03                           34                           21\n",
       "3    2004-04                           28                           23\n",
       "4    2004-05                           37                           26\n",
       "..       ...                          ...                          ...\n",
       "208  2021-05                           20                            7\n",
       "209  2021-06                           17                            7\n",
       "210  2021-07                           16                            6\n",
       "211  2021-08                           19                            7\n",
       "212  2021-09                           21                            7\n",
       "\n",
       "[213 rows x 3 columns]"
      ]
     },
     "execution_count": 5,
     "metadata": {},
     "output_type": "execute_result"
    }
   ],
   "source": [
    "df"
   ]
  },
  {
   "cell_type": "markdown",
   "metadata": {},
   "source": [
    "### Understanding the dataset"
   ]
  },
  {
   "cell_type": "code",
   "execution_count": 6,
   "metadata": {},
   "outputs": [
    {
     "data": {
      "text/plain": [
       "(213, 3)"
      ]
     },
     "execution_count": 6,
     "metadata": {},
     "output_type": "execute_result"
    }
   ],
   "source": [
    "df.shape"
   ]
  },
  {
   "cell_type": "code",
   "execution_count": 7,
   "metadata": {
    "scrolled": true
   },
   "outputs": [
    {
     "data": {
      "text/html": [
       "<div>\n",
       "<style scoped>\n",
       "    .dataframe tbody tr th:only-of-type {\n",
       "        vertical-align: middle;\n",
       "    }\n",
       "\n",
       "    .dataframe tbody tr th {\n",
       "        vertical-align: top;\n",
       "    }\n",
       "\n",
       "    .dataframe thead th {\n",
       "        text-align: right;\n",
       "    }\n",
       "</style>\n",
       "<table border=\"1\" class=\"dataframe\">\n",
       "  <thead>\n",
       "    <tr style=\"text-align: right;\">\n",
       "      <th></th>\n",
       "      <th>Month</th>\n",
       "      <th>Climate change: (Worldwide)</th>\n",
       "      <th>Global Warming: (Worldwide)</th>\n",
       "    </tr>\n",
       "  </thead>\n",
       "  <tbody>\n",
       "    <tr>\n",
       "      <th>0</th>\n",
       "      <td>2004-01</td>\n",
       "      <td>28</td>\n",
       "      <td>21</td>\n",
       "    </tr>\n",
       "    <tr>\n",
       "      <th>1</th>\n",
       "      <td>2004-02</td>\n",
       "      <td>35</td>\n",
       "      <td>22</td>\n",
       "    </tr>\n",
       "    <tr>\n",
       "      <th>2</th>\n",
       "      <td>2004-03</td>\n",
       "      <td>34</td>\n",
       "      <td>21</td>\n",
       "    </tr>\n",
       "    <tr>\n",
       "      <th>3</th>\n",
       "      <td>2004-04</td>\n",
       "      <td>28</td>\n",
       "      <td>23</td>\n",
       "    </tr>\n",
       "    <tr>\n",
       "      <th>4</th>\n",
       "      <td>2004-05</td>\n",
       "      <td>37</td>\n",
       "      <td>26</td>\n",
       "    </tr>\n",
       "  </tbody>\n",
       "</table>\n",
       "</div>"
      ],
      "text/plain": [
       "     Month  Climate change: (Worldwide)  Global Warming: (Worldwide)\n",
       "0  2004-01                           28                           21\n",
       "1  2004-02                           35                           22\n",
       "2  2004-03                           34                           21\n",
       "3  2004-04                           28                           23\n",
       "4  2004-05                           37                           26"
      ]
     },
     "execution_count": 7,
     "metadata": {},
     "output_type": "execute_result"
    }
   ],
   "source": [
    "df.head()"
   ]
  },
  {
   "cell_type": "code",
   "execution_count": 8,
   "metadata": {},
   "outputs": [
    {
     "name": "stdout",
     "output_type": "stream",
     "text": [
      "<class 'pandas.core.frame.DataFrame'>\n",
      "RangeIndex: 213 entries, 0 to 212\n",
      "Data columns (total 3 columns):\n",
      " #   Column                       Non-Null Count  Dtype \n",
      "---  ------                       --------------  ----- \n",
      " 0   Month                        213 non-null    object\n",
      " 1   Climate change: (Worldwide)  213 non-null    int64 \n",
      " 2   Global Warming: (Worldwide)  213 non-null    int64 \n",
      "dtypes: int64(2), object(1)\n",
      "memory usage: 5.1+ KB\n"
     ]
    }
   ],
   "source": [
    "#to check the datatypes and null values\n",
    "df.info()"
   ]
  },
  {
   "cell_type": "code",
   "execution_count": 9,
   "metadata": {
    "scrolled": true
   },
   "outputs": [
    {
     "name": "stdout",
     "output_type": "stream",
     "text": [
      "Month                          0\n",
      "Climate change: (Worldwide)    0\n",
      "Global Warming: (Worldwide)    0\n",
      "dtype: int64\n"
     ]
    }
   ],
   "source": [
    "print(df.isnull().sum())"
   ]
  },
  {
   "cell_type": "code",
   "execution_count": 10,
   "metadata": {},
   "outputs": [],
   "source": [
    "#df1=df.fillna(\"NaN\", inplace = True)"
   ]
  },
  {
   "cell_type": "code",
   "execution_count": 11,
   "metadata": {
    "scrolled": true
   },
   "outputs": [
    {
     "name": "stdout",
     "output_type": "stream",
     "text": [
      "       Month  Climate change: (Worldwide)  Global Warming: (Worldwide)\n",
      "0    2004-01                           28                           21\n",
      "1    2004-02                           35                           22\n",
      "2    2004-03                           34                           21\n",
      "3    2004-04                           28                           23\n",
      "4    2004-05                           37                           26\n",
      "..       ...                          ...                          ...\n",
      "208  2021-05                           20                            7\n",
      "209  2021-06                           17                            7\n",
      "210  2021-07                           16                            6\n",
      "211  2021-08                           19                            7\n",
      "212  2021-09                           21                            7\n",
      "\n",
      "[213 rows x 3 columns]\n"
     ]
    }
   ],
   "source": [
    "print(df)"
   ]
  },
  {
   "cell_type": "code",
   "execution_count": 13,
   "metadata": {
    "scrolled": true
   },
   "outputs": [
    {
     "data": {
      "text/plain": [
       "Index(['Month', 'Climate change: (Worldwide)', 'Global Warming: (Worldwide)'], dtype='object')"
      ]
     },
     "execution_count": 13,
     "metadata": {},
     "output_type": "execute_result"
    }
   ],
   "source": [
    "df.columns"
   ]
  },
  {
   "cell_type": "markdown",
   "metadata": {},
   "source": [
    "### Slicing the dataset"
   ]
  },
  {
   "cell_type": "code",
   "execution_count": 14,
   "metadata": {
    "scrolled": false
   },
   "outputs": [],
   "source": [
    "df1=df.drop(['Month'],axis=1,errors='ignore')#errors='ignore' is given to ignore the key error:LOR not found in axis"
   ]
  },
  {
   "cell_type": "code",
   "execution_count": 15,
   "metadata": {},
   "outputs": [
    {
     "data": {
      "text/html": [
       "<div>\n",
       "<style scoped>\n",
       "    .dataframe tbody tr th:only-of-type {\n",
       "        vertical-align: middle;\n",
       "    }\n",
       "\n",
       "    .dataframe tbody tr th {\n",
       "        vertical-align: top;\n",
       "    }\n",
       "\n",
       "    .dataframe thead th {\n",
       "        text-align: right;\n",
       "    }\n",
       "</style>\n",
       "<table border=\"1\" class=\"dataframe\">\n",
       "  <thead>\n",
       "    <tr style=\"text-align: right;\">\n",
       "      <th></th>\n",
       "      <th>Climate change: (Worldwide)</th>\n",
       "      <th>Global Warming: (Worldwide)</th>\n",
       "    </tr>\n",
       "  </thead>\n",
       "  <tbody>\n",
       "    <tr>\n",
       "      <th>0</th>\n",
       "      <td>28</td>\n",
       "      <td>21</td>\n",
       "    </tr>\n",
       "    <tr>\n",
       "      <th>1</th>\n",
       "      <td>35</td>\n",
       "      <td>22</td>\n",
       "    </tr>\n",
       "    <tr>\n",
       "      <th>2</th>\n",
       "      <td>34</td>\n",
       "      <td>21</td>\n",
       "    </tr>\n",
       "    <tr>\n",
       "      <th>3</th>\n",
       "      <td>28</td>\n",
       "      <td>23</td>\n",
       "    </tr>\n",
       "    <tr>\n",
       "      <th>4</th>\n",
       "      <td>37</td>\n",
       "      <td>26</td>\n",
       "    </tr>\n",
       "    <tr>\n",
       "      <th>...</th>\n",
       "      <td>...</td>\n",
       "      <td>...</td>\n",
       "    </tr>\n",
       "    <tr>\n",
       "      <th>208</th>\n",
       "      <td>20</td>\n",
       "      <td>7</td>\n",
       "    </tr>\n",
       "    <tr>\n",
       "      <th>209</th>\n",
       "      <td>17</td>\n",
       "      <td>7</td>\n",
       "    </tr>\n",
       "    <tr>\n",
       "      <th>210</th>\n",
       "      <td>16</td>\n",
       "      <td>6</td>\n",
       "    </tr>\n",
       "    <tr>\n",
       "      <th>211</th>\n",
       "      <td>19</td>\n",
       "      <td>7</td>\n",
       "    </tr>\n",
       "    <tr>\n",
       "      <th>212</th>\n",
       "      <td>21</td>\n",
       "      <td>7</td>\n",
       "    </tr>\n",
       "  </tbody>\n",
       "</table>\n",
       "<p>213 rows × 2 columns</p>\n",
       "</div>"
      ],
      "text/plain": [
       "     Climate change: (Worldwide)  Global Warming: (Worldwide)\n",
       "0                             28                           21\n",
       "1                             35                           22\n",
       "2                             34                           21\n",
       "3                             28                           23\n",
       "4                             37                           26\n",
       "..                           ...                          ...\n",
       "208                           20                            7\n",
       "209                           17                            7\n",
       "210                           16                            6\n",
       "211                           19                            7\n",
       "212                           21                            7\n",
       "\n",
       "[213 rows x 2 columns]"
      ]
     },
     "execution_count": 15,
     "metadata": {},
     "output_type": "execute_result"
    }
   ],
   "source": [
    "df1"
   ]
  },
  {
   "cell_type": "code",
   "execution_count": 16,
   "metadata": {},
   "outputs": [
    {
     "name": "stdout",
     "output_type": "stream",
     "text": [
      "None\n"
     ]
    }
   ],
   "source": [
    "print(df1.fillna(value = 0,inplace = True))"
   ]
  },
  {
   "cell_type": "markdown",
   "metadata": {},
   "source": [
    "### Segregate and shape the variables"
   ]
  },
  {
   "cell_type": "code",
   "execution_count": 17,
   "metadata": {},
   "outputs": [],
   "source": [
    "#Climate Change\n",
    "x=df1.iloc[:,0]"
   ]
  },
  {
   "cell_type": "code",
   "execution_count": 18,
   "metadata": {},
   "outputs": [
    {
     "data": {
      "text/plain": [
       "0      28\n",
       "1      35\n",
       "2      34\n",
       "3      28\n",
       "4      37\n",
       "       ..\n",
       "208    20\n",
       "209    17\n",
       "210    16\n",
       "211    19\n",
       "212    21\n",
       "Name: Climate change: (Worldwide), Length: 213, dtype: int64"
      ]
     },
     "execution_count": 18,
     "metadata": {},
     "output_type": "execute_result"
    }
   ],
   "source": [
    "x"
   ]
  },
  {
   "cell_type": "code",
   "execution_count": 19,
   "metadata": {},
   "outputs": [
    {
     "data": {
      "text/plain": [
       "(213,)"
      ]
     },
     "execution_count": 19,
     "metadata": {},
     "output_type": "execute_result"
    }
   ],
   "source": [
    "x.shape"
   ]
  },
  {
   "cell_type": "code",
   "execution_count": 20,
   "metadata": {},
   "outputs": [],
   "source": [
    "x=df1.iloc[:,0].values.reshape(-1,1)#reshaping the data, so that it can be in a dataframe"
   ]
  },
  {
   "cell_type": "code",
   "execution_count": 21,
   "metadata": {},
   "outputs": [
    {
     "data": {
      "text/plain": [
       "(213, 1)"
      ]
     },
     "execution_count": 21,
     "metadata": {},
     "output_type": "execute_result"
    }
   ],
   "source": [
    "x.shape"
   ]
  },
  {
   "cell_type": "code",
   "execution_count": 22,
   "metadata": {},
   "outputs": [
    {
     "data": {
      "text/plain": [
       "array([[ 28],\n",
       "       [ 35],\n",
       "       [ 34],\n",
       "       [ 28],\n",
       "       [ 37],\n",
       "       [ 23],\n",
       "       [ 15],\n",
       "       [ 15],\n",
       "       [ 31],\n",
       "       [ 34],\n",
       "       [ 41],\n",
       "       [ 33],\n",
       "       [ 36],\n",
       "       [ 35],\n",
       "       [ 34],\n",
       "       [ 29],\n",
       "       [ 31],\n",
       "       [ 23],\n",
       "       [ 22],\n",
       "       [ 19],\n",
       "       [ 33],\n",
       "       [ 35],\n",
       "       [ 36],\n",
       "       [ 30],\n",
       "       [ 32],\n",
       "       [ 39],\n",
       "       [ 43],\n",
       "       [ 40],\n",
       "       [ 41],\n",
       "       [ 37],\n",
       "       [ 31],\n",
       "       [ 25],\n",
       "       [ 37],\n",
       "       [ 48],\n",
       "       [ 55],\n",
       "       [ 50],\n",
       "       [ 76],\n",
       "       [100],\n",
       "       [ 87],\n",
       "       [ 91],\n",
       "       [ 82],\n",
       "       [ 55],\n",
       "       [ 47],\n",
       "       [ 42],\n",
       "       [ 52],\n",
       "       [ 69],\n",
       "       [ 71],\n",
       "       [ 60],\n",
       "       [ 57],\n",
       "       [ 56],\n",
       "       [ 59],\n",
       "       [ 70],\n",
       "       [ 64],\n",
       "       [ 46],\n",
       "       [ 36],\n",
       "       [ 31],\n",
       "       [ 45],\n",
       "       [ 50],\n",
       "       [ 53],\n",
       "       [ 41],\n",
       "       [ 41],\n",
       "       [ 45],\n",
       "       [ 50],\n",
       "       [ 52],\n",
       "       [ 48],\n",
       "       [ 37],\n",
       "       [ 29],\n",
       "       [ 27],\n",
       "       [ 36],\n",
       "       [ 50],\n",
       "       [ 62],\n",
       "       [ 77],\n",
       "       [ 50],\n",
       "       [ 52],\n",
       "       [ 44],\n",
       "       [ 43],\n",
       "       [ 39],\n",
       "       [ 27],\n",
       "       [ 21],\n",
       "       [ 22],\n",
       "       [ 27],\n",
       "       [ 32],\n",
       "       [ 34],\n",
       "       [ 28],\n",
       "       [ 29],\n",
       "       [ 31],\n",
       "       [ 30],\n",
       "       [ 28],\n",
       "       [ 29],\n",
       "       [ 22],\n",
       "       [ 19],\n",
       "       [ 19],\n",
       "       [ 24],\n",
       "       [ 27],\n",
       "       [ 31],\n",
       "       [ 25],\n",
       "       [ 27],\n",
       "       [ 28],\n",
       "       [ 29],\n",
       "       [ 23],\n",
       "       [ 23],\n",
       "       [ 17],\n",
       "       [ 16],\n",
       "       [ 15],\n",
       "       [ 20],\n",
       "       [ 23],\n",
       "       [ 25],\n",
       "       [ 19],\n",
       "       [ 19],\n",
       "       [ 22],\n",
       "       [ 20],\n",
       "       [ 23],\n",
       "       [ 21],\n",
       "       [ 17],\n",
       "       [ 13],\n",
       "       [ 14],\n",
       "       [ 20],\n",
       "       [ 20],\n",
       "       [ 22],\n",
       "       [ 17],\n",
       "       [ 22],\n",
       "       [ 22],\n",
       "       [ 23],\n",
       "       [ 22],\n",
       "       [ 25],\n",
       "       [ 18],\n",
       "       [ 13],\n",
       "       [ 15],\n",
       "       [ 26],\n",
       "       [ 22],\n",
       "       [ 24],\n",
       "       [ 17],\n",
       "       [ 18],\n",
       "       [ 22],\n",
       "       [ 22],\n",
       "       [ 21],\n",
       "       [ 21],\n",
       "       [ 19],\n",
       "       [ 14],\n",
       "       [ 16],\n",
       "       [ 21],\n",
       "       [ 23],\n",
       "       [ 31],\n",
       "       [ 34],\n",
       "       [ 23],\n",
       "       [ 23],\n",
       "       [ 24],\n",
       "       [ 25],\n",
       "       [ 25],\n",
       "       [ 17],\n",
       "       [ 14],\n",
       "       [ 16],\n",
       "       [ 20],\n",
       "       [ 23],\n",
       "       [ 35],\n",
       "       [ 24],\n",
       "       [ 27],\n",
       "       [ 27],\n",
       "       [ 26],\n",
       "       [ 25],\n",
       "       [ 25],\n",
       "       [ 31],\n",
       "       [ 16],\n",
       "       [ 17],\n",
       "       [ 25],\n",
       "       [ 21],\n",
       "       [ 24],\n",
       "       [ 20],\n",
       "       [ 22],\n",
       "       [ 21],\n",
       "       [ 19],\n",
       "       [ 20],\n",
       "       [ 21],\n",
       "       [ 14],\n",
       "       [ 14],\n",
       "       [ 16],\n",
       "       [ 18],\n",
       "       [ 26],\n",
       "       [ 26],\n",
       "       [ 21],\n",
       "       [ 24],\n",
       "       [ 29],\n",
       "       [ 31],\n",
       "       [ 30],\n",
       "       [ 32],\n",
       "       [ 25],\n",
       "       [ 21],\n",
       "       [ 24],\n",
       "       [ 46],\n",
       "       [ 34],\n",
       "       [ 33],\n",
       "       [ 27],\n",
       "       [ 32],\n",
       "       [ 31],\n",
       "       [ 24],\n",
       "       [ 20],\n",
       "       [ 19],\n",
       "       [ 15],\n",
       "       [ 11],\n",
       "       [ 13],\n",
       "       [ 26],\n",
       "       [ 24],\n",
       "       [ 21],\n",
       "       [ 16],\n",
       "       [ 18],\n",
       "       [ 23],\n",
       "       [ 22],\n",
       "       [ 21],\n",
       "       [ 20],\n",
       "       [ 17],\n",
       "       [ 16],\n",
       "       [ 19],\n",
       "       [ 21]], dtype=int64)"
      ]
     },
     "execution_count": 22,
     "metadata": {},
     "output_type": "execute_result"
    }
   ],
   "source": [
    "x"
   ]
  },
  {
   "cell_type": "code",
   "execution_count": 23,
   "metadata": {},
   "outputs": [],
   "source": [
    "#Global Warming\n",
    "y=df1.iloc[:,-1].values.reshape(-1,1)"
   ]
  },
  {
   "cell_type": "code",
   "execution_count": 24,
   "metadata": {},
   "outputs": [
    {
     "data": {
      "text/plain": [
       "(213, 1)"
      ]
     },
     "execution_count": 24,
     "metadata": {},
     "output_type": "execute_result"
    }
   ],
   "source": [
    "y.shape"
   ]
  },
  {
   "cell_type": "code",
   "execution_count": 25,
   "metadata": {},
   "outputs": [
    {
     "data": {
      "text/plain": [
       "array([[21],\n",
       "       [22],\n",
       "       [21],\n",
       "       [23],\n",
       "       [26],\n",
       "       [16],\n",
       "       [10],\n",
       "       [10],\n",
       "       [21],\n",
       "       [22],\n",
       "       [27],\n",
       "       [23],\n",
       "       [25],\n",
       "       [27],\n",
       "       [23],\n",
       "       [22],\n",
       "       [21],\n",
       "       [15],\n",
       "       [14],\n",
       "       [15],\n",
       "       [25],\n",
       "       [27],\n",
       "       [31],\n",
       "       [23],\n",
       "       [21],\n",
       "       [27],\n",
       "       [28],\n",
       "       [33],\n",
       "       [32],\n",
       "       [28],\n",
       "       [24],\n",
       "       [20],\n",
       "       [28],\n",
       "       [34],\n",
       "       [40],\n",
       "       [37],\n",
       "       [61],\n",
       "       [71],\n",
       "       [75],\n",
       "       [75],\n",
       "       [64],\n",
       "       [42],\n",
       "       [35],\n",
       "       [30],\n",
       "       [38],\n",
       "       [49],\n",
       "       [54],\n",
       "       [45],\n",
       "       [41],\n",
       "       [42],\n",
       "       [41],\n",
       "       [50],\n",
       "       [47],\n",
       "       [32],\n",
       "       [25],\n",
       "       [19],\n",
       "       [31],\n",
       "       [33],\n",
       "       [36],\n",
       "       [29],\n",
       "       [30],\n",
       "       [31],\n",
       "       [33],\n",
       "       [35],\n",
       "       [31],\n",
       "       [24],\n",
       "       [20],\n",
       "       [17],\n",
       "       [24],\n",
       "       [31],\n",
       "       [39],\n",
       "       [44],\n",
       "       [33],\n",
       "       [33],\n",
       "       [30],\n",
       "       [29],\n",
       "       [25],\n",
       "       [17],\n",
       "       [13],\n",
       "       [13],\n",
       "       [16],\n",
       "       [20],\n",
       "       [22],\n",
       "       [18],\n",
       "       [20],\n",
       "       [21],\n",
       "       [19],\n",
       "       [16],\n",
       "       [18],\n",
       "       [14],\n",
       "       [12],\n",
       "       [12],\n",
       "       [16],\n",
       "       [17],\n",
       "       [20],\n",
       "       [16],\n",
       "       [18],\n",
       "       [18],\n",
       "       [18],\n",
       "       [15],\n",
       "       [14],\n",
       "       [11],\n",
       "       [10],\n",
       "       [ 9],\n",
       "       [13],\n",
       "       [14],\n",
       "       [17],\n",
       "       [13],\n",
       "       [12],\n",
       "       [13],\n",
       "       [13],\n",
       "       [13],\n",
       "       [13],\n",
       "       [10],\n",
       "       [ 8],\n",
       "       [ 8],\n",
       "       [11],\n",
       "       [12],\n",
       "       [13],\n",
       "       [10],\n",
       "       [14],\n",
       "       [13],\n",
       "       [12],\n",
       "       [12],\n",
       "       [14],\n",
       "       [10],\n",
       "       [ 8],\n",
       "       [ 8],\n",
       "       [13],\n",
       "       [12],\n",
       "       [13],\n",
       "       [ 9],\n",
       "       [10],\n",
       "       [13],\n",
       "       [12],\n",
       "       [11],\n",
       "       [11],\n",
       "       [10],\n",
       "       [ 8],\n",
       "       [ 8],\n",
       "       [11],\n",
       "       [12],\n",
       "       [14],\n",
       "       [15],\n",
       "       [11],\n",
       "       [12],\n",
       "       [12],\n",
       "       [12],\n",
       "       [12],\n",
       "       [10],\n",
       "       [ 7],\n",
       "       [ 8],\n",
       "       [10],\n",
       "       [12],\n",
       "       [15],\n",
       "       [12],\n",
       "       [13],\n",
       "       [13],\n",
       "       [12],\n",
       "       [12],\n",
       "       [12],\n",
       "       [11],\n",
       "       [ 8],\n",
       "       [ 9],\n",
       "       [12],\n",
       "       [11],\n",
       "       [11],\n",
       "       [10],\n",
       "       [12],\n",
       "       [10],\n",
       "       [10],\n",
       "       [10],\n",
       "       [10],\n",
       "       [ 7],\n",
       "       [ 6],\n",
       "       [ 8],\n",
       "       [ 8],\n",
       "       [12],\n",
       "       [11],\n",
       "       [ 9],\n",
       "       [12],\n",
       "       [13],\n",
       "       [12],\n",
       "       [11],\n",
       "       [14],\n",
       "       [10],\n",
       "       [ 9],\n",
       "       [ 9],\n",
       "       [13],\n",
       "       [12],\n",
       "       [12],\n",
       "       [ 9],\n",
       "       [11],\n",
       "       [11],\n",
       "       [ 9],\n",
       "       [ 8],\n",
       "       [ 7],\n",
       "       [ 6],\n",
       "       [ 4],\n",
       "       [ 5],\n",
       "       [ 8],\n",
       "       [ 8],\n",
       "       [ 8],\n",
       "       [ 6],\n",
       "       [ 7],\n",
       "       [ 9],\n",
       "       [10],\n",
       "       [ 8],\n",
       "       [ 7],\n",
       "       [ 7],\n",
       "       [ 6],\n",
       "       [ 7],\n",
       "       [ 7]], dtype=int64)"
      ]
     },
     "execution_count": 25,
     "metadata": {},
     "output_type": "execute_result"
    }
   ],
   "source": [
    "y"
   ]
  },
  {
   "cell_type": "markdown",
   "metadata": {},
   "source": [
    "### Scatter plot"
   ]
  },
  {
   "cell_type": "code",
   "execution_count": 28,
   "metadata": {
    "scrolled": true
   },
   "outputs": [
    {
     "data": {
      "image/png": "[encoded data removed]",
      "text/plain": [
       "<Figure size 432x288 with 1 Axes>"
      ]
     },
     "metadata": {
      "needs_background": "light"
     },
     "output_type": "display_data"
    }
   ],
   "source": [
    "plt.scatter(x,y)\n",
    "plt.ylabel('Global Warming')\n",
    "plt.xlabel('Climate Change')\n",
    "plt.show()\n",
    "\n"
   ]
  },
  {
   "cell_type": "markdown",
   "metadata": {},
   "source": [
    "### Divide the dataset into training and test set"
   ]
  },
  {
   "cell_type": "code",
   "execution_count": 29,
   "metadata": {},
   "outputs": [],
   "source": [
    "from sklearn.model_selection import train_test_split"
   ]
  },
  {
   "cell_type": "code",
   "execution_count": 30,
   "metadata": {},
   "outputs": [],
   "source": [
    "x_train, x_test, y_train, y_test= train_test_split(x,y,test_size=0.2,random_state=0)"
   ]
  },
  {
   "cell_type": "code",
   "execution_count": 31,
   "metadata": {},
   "outputs": [
    {
     "data": {
      "text/plain": [
       "(170, 1)"
      ]
     },
     "execution_count": 31,
     "metadata": {},
     "output_type": "execute_result"
    }
   ],
   "source": [
    "x_train.shape"
   ]
  },
  {
   "cell_type": "code",
   "execution_count": 32,
   "metadata": {},
   "outputs": [
    {
     "data": {
      "text/plain": [
       "(43, 1)"
      ]
     },
     "execution_count": 32,
     "metadata": {},
     "output_type": "execute_result"
    }
   ],
   "source": [
    "x_test.shape"
   ]
  },
  {
   "cell_type": "code",
   "execution_count": 33,
   "metadata": {},
   "outputs": [
    {
     "data": {
      "text/plain": [
       "(170, 1)"
      ]
     },
     "execution_count": 33,
     "metadata": {},
     "output_type": "execute_result"
    }
   ],
   "source": [
    "y_train.shape"
   ]
  },
  {
   "cell_type": "code",
   "execution_count": 34,
   "metadata": {},
   "outputs": [
    {
     "data": {
      "text/plain": [
       "(43, 1)"
      ]
     },
     "execution_count": 34,
     "metadata": {},
     "output_type": "execute_result"
    }
   ],
   "source": [
    "y_test.shape"
   ]
  },
  {
   "cell_type": "markdown",
   "metadata": {},
   "source": [
    "### Perform the linear regression"
   ]
  },
  {
   "cell_type": "code",
   "execution_count": 35,
   "metadata": {},
   "outputs": [],
   "source": [
    "from sklearn.linear_model import LinearRegression"
   ]
  },
  {
   "cell_type": "code",
   "execution_count": 36,
   "metadata": {},
   "outputs": [],
   "source": [
    "lm= LinearRegression()"
   ]
  },
  {
   "cell_type": "markdown",
   "metadata": {},
   "source": [
    "### Train the model-Linear Regression"
   ]
  },
  {
   "cell_type": "code",
   "execution_count": 37,
   "metadata": {
    "scrolled": false
   },
   "outputs": [
    {
     "data": {
      "text/plain": [
       "LinearRegression()"
      ]
     },
     "execution_count": 37,
     "metadata": {},
     "output_type": "execute_result"
    }
   ],
   "source": [
    "lm.fit(x_train,y_train)"
   ]
  },
  {
   "cell_type": "markdown",
   "metadata": {},
   "source": [
    "### Predict the chance of admit"
   ]
  },
  {
   "cell_type": "code",
   "execution_count": 38,
   "metadata": {},
   "outputs": [],
   "source": [
    "y_pred=lm.predict(x_test)"
   ]
  },
  {
   "cell_type": "code",
   "execution_count": 39,
   "metadata": {},
   "outputs": [
    {
     "data": {
      "text/plain": [
       "array([[ 9.3897533 ],\n",
       "       [77.69316096],\n",
       "       [11.91950914],\n",
       "       [13.60601303],\n",
       "       [ 5.17349356],\n",
       "       [29.62780001],\n",
       "       [16.13576887],\n",
       "       [ 9.3897533 ],\n",
       "       [12.76276108],\n",
       "       [16.97902081],\n",
       "       [19.50877665],\n",
       "       [12.76276108],\n",
       "       [14.44926498],\n",
       "       [11.07625719],\n",
       "       [30.47105196],\n",
       "       [13.60601303],\n",
       "       [ 4.33024162],\n",
       "       [23.72503639],\n",
       "       [10.23300524],\n",
       "       [16.13576887],\n",
       "       [18.66552471],\n",
       "       [ 4.33024162],\n",
       "       [ 6.01674551],\n",
       "       [32.15755585],\n",
       "       [22.03853249],\n",
       "       [11.91950914],\n",
       "       [ 5.17349356],\n",
       "       [17.82227276],\n",
       "       [18.66552471],\n",
       "       [58.29836619],\n",
       "       [ 6.01674551],\n",
       "       [37.21706753],\n",
       "       [12.76276108],\n",
       "       [16.97902081],\n",
       "       [11.07625719],\n",
       "       [19.50877665],\n",
       "       [33.84405974],\n",
       "       [12.76276108],\n",
       "       [ 9.3897533 ],\n",
       "       [21.19528055],\n",
       "       [14.44926498],\n",
       "       [11.07625719],\n",
       "       [ 6.85999746]])"
      ]
     },
     "execution_count": 39,
     "metadata": {},
     "output_type": "execute_result"
    }
   ],
   "source": [
    "y_pred"
   ]
  },
  {
   "cell_type": "markdown",
   "metadata": {},
   "source": [
    "### Checking the prediction"
   ]
  },
  {
   "cell_type": "code",
   "execution_count": 40,
   "metadata": {},
   "outputs": [],
   "source": [
    "check=pd.DataFrame(x_test,columns=['Climate Change'])"
   ]
  },
  {
   "cell_type": "code",
   "execution_count": 41,
   "metadata": {},
   "outputs": [],
   "source": [
    "check['Actual Global Warming']=y_test"
   ]
  },
  {
   "cell_type": "code",
   "execution_count": 42,
   "metadata": {},
   "outputs": [],
   "source": [
    "check['Predicted Global Warming']=y_pred"
   ]
  },
  {
   "cell_type": "code",
   "execution_count": 43,
   "metadata": {},
   "outputs": [
    {
     "data": {
      "text/html": [
       "<div>\n",
       "<style scoped>\n",
       "    .dataframe tbody tr th:only-of-type {\n",
       "        vertical-align: middle;\n",
       "    }\n",
       "\n",
       "    .dataframe tbody tr th {\n",
       "        vertical-align: top;\n",
       "    }\n",
       "\n",
       "    .dataframe thead th {\n",
       "        text-align: right;\n",
       "    }\n",
       "</style>\n",
       "<table border=\"1\" class=\"dataframe\">\n",
       "  <thead>\n",
       "    <tr style=\"text-align: right;\">\n",
       "      <th></th>\n",
       "      <th>Climate Change</th>\n",
       "      <th>Actual Global Warming</th>\n",
       "      <th>Predicted Global Warming</th>\n",
       "    </tr>\n",
       "  </thead>\n",
       "  <tbody>\n",
       "    <tr>\n",
       "      <th>0</th>\n",
       "      <td>19</td>\n",
       "      <td>7</td>\n",
       "      <td>9.389753</td>\n",
       "    </tr>\n",
       "    <tr>\n",
       "      <th>1</th>\n",
       "      <td>100</td>\n",
       "      <td>71</td>\n",
       "      <td>77.693161</td>\n",
       "    </tr>\n",
       "    <tr>\n",
       "      <th>2</th>\n",
       "      <td>22</td>\n",
       "      <td>14</td>\n",
       "      <td>11.919509</td>\n",
       "    </tr>\n",
       "    <tr>\n",
       "      <th>3</th>\n",
       "      <td>24</td>\n",
       "      <td>11</td>\n",
       "      <td>13.606013</td>\n",
       "    </tr>\n",
       "    <tr>\n",
       "      <th>4</th>\n",
       "      <td>14</td>\n",
       "      <td>7</td>\n",
       "      <td>5.173494</td>\n",
       "    </tr>\n",
       "    <tr>\n",
       "      <th>5</th>\n",
       "      <td>43</td>\n",
       "      <td>29</td>\n",
       "      <td>29.627800</td>\n",
       "    </tr>\n",
       "    <tr>\n",
       "      <th>6</th>\n",
       "      <td>27</td>\n",
       "      <td>18</td>\n",
       "      <td>16.135769</td>\n",
       "    </tr>\n",
       "    <tr>\n",
       "      <th>7</th>\n",
       "      <td>19</td>\n",
       "      <td>10</td>\n",
       "      <td>9.389753</td>\n",
       "    </tr>\n",
       "    <tr>\n",
       "      <th>8</th>\n",
       "      <td>23</td>\n",
       "      <td>16</td>\n",
       "      <td>12.762761</td>\n",
       "    </tr>\n",
       "    <tr>\n",
       "      <th>9</th>\n",
       "      <td>28</td>\n",
       "      <td>18</td>\n",
       "      <td>16.979021</td>\n",
       "    </tr>\n",
       "    <tr>\n",
       "      <th>10</th>\n",
       "      <td>31</td>\n",
       "      <td>19</td>\n",
       "      <td>19.508777</td>\n",
       "    </tr>\n",
       "    <tr>\n",
       "      <th>11</th>\n",
       "      <td>23</td>\n",
       "      <td>11</td>\n",
       "      <td>12.762761</td>\n",
       "    </tr>\n",
       "    <tr>\n",
       "      <th>12</th>\n",
       "      <td>25</td>\n",
       "      <td>12</td>\n",
       "      <td>14.449265</td>\n",
       "    </tr>\n",
       "    <tr>\n",
       "      <th>13</th>\n",
       "      <td>21</td>\n",
       "      <td>13</td>\n",
       "      <td>11.076257</td>\n",
       "    </tr>\n",
       "    <tr>\n",
       "      <th>14</th>\n",
       "      <td>44</td>\n",
       "      <td>30</td>\n",
       "      <td>30.471052</td>\n",
       "    </tr>\n",
       "    <tr>\n",
       "      <th>15</th>\n",
       "      <td>24</td>\n",
       "      <td>8</td>\n",
       "      <td>13.606013</td>\n",
       "    </tr>\n",
       "    <tr>\n",
       "      <th>16</th>\n",
       "      <td>13</td>\n",
       "      <td>8</td>\n",
       "      <td>4.330242</td>\n",
       "    </tr>\n",
       "    <tr>\n",
       "      <th>17</th>\n",
       "      <td>36</td>\n",
       "      <td>25</td>\n",
       "      <td>23.725036</td>\n",
       "    </tr>\n",
       "    <tr>\n",
       "      <th>18</th>\n",
       "      <td>20</td>\n",
       "      <td>10</td>\n",
       "      <td>10.233005</td>\n",
       "    </tr>\n",
       "    <tr>\n",
       "      <th>19</th>\n",
       "      <td>27</td>\n",
       "      <td>13</td>\n",
       "      <td>16.135769</td>\n",
       "    </tr>\n",
       "    <tr>\n",
       "      <th>20</th>\n",
       "      <td>30</td>\n",
       "      <td>11</td>\n",
       "      <td>18.665525</td>\n",
       "    </tr>\n",
       "    <tr>\n",
       "      <th>21</th>\n",
       "      <td>13</td>\n",
       "      <td>5</td>\n",
       "      <td>4.330242</td>\n",
       "    </tr>\n",
       "    <tr>\n",
       "      <th>22</th>\n",
       "      <td>15</td>\n",
       "      <td>6</td>\n",
       "      <td>6.016746</td>\n",
       "    </tr>\n",
       "    <tr>\n",
       "      <th>23</th>\n",
       "      <td>46</td>\n",
       "      <td>13</td>\n",
       "      <td>32.157556</td>\n",
       "    </tr>\n",
       "    <tr>\n",
       "      <th>24</th>\n",
       "      <td>34</td>\n",
       "      <td>15</td>\n",
       "      <td>22.038532</td>\n",
       "    </tr>\n",
       "    <tr>\n",
       "      <th>25</th>\n",
       "      <td>22</td>\n",
       "      <td>14</td>\n",
       "      <td>11.919509</td>\n",
       "    </tr>\n",
       "    <tr>\n",
       "      <th>26</th>\n",
       "      <td>14</td>\n",
       "      <td>7</td>\n",
       "      <td>5.173494</td>\n",
       "    </tr>\n",
       "    <tr>\n",
       "      <th>27</th>\n",
       "      <td>29</td>\n",
       "      <td>22</td>\n",
       "      <td>17.822273</td>\n",
       "    </tr>\n",
       "    <tr>\n",
       "      <th>28</th>\n",
       "      <td>30</td>\n",
       "      <td>19</td>\n",
       "      <td>18.665525</td>\n",
       "    </tr>\n",
       "    <tr>\n",
       "      <th>29</th>\n",
       "      <td>77</td>\n",
       "      <td>44</td>\n",
       "      <td>58.298366</td>\n",
       "    </tr>\n",
       "    <tr>\n",
       "      <th>30</th>\n",
       "      <td>15</td>\n",
       "      <td>10</td>\n",
       "      <td>6.016746</td>\n",
       "    </tr>\n",
       "    <tr>\n",
       "      <th>31</th>\n",
       "      <td>52</td>\n",
       "      <td>35</td>\n",
       "      <td>37.217068</td>\n",
       "    </tr>\n",
       "    <tr>\n",
       "      <th>32</th>\n",
       "      <td>23</td>\n",
       "      <td>12</td>\n",
       "      <td>12.762761</td>\n",
       "    </tr>\n",
       "    <tr>\n",
       "      <th>33</th>\n",
       "      <td>28</td>\n",
       "      <td>18</td>\n",
       "      <td>16.979021</td>\n",
       "    </tr>\n",
       "    <tr>\n",
       "      <th>34</th>\n",
       "      <td>21</td>\n",
       "      <td>11</td>\n",
       "      <td>11.076257</td>\n",
       "    </tr>\n",
       "    <tr>\n",
       "      <th>35</th>\n",
       "      <td>31</td>\n",
       "      <td>11</td>\n",
       "      <td>19.508777</td>\n",
       "    </tr>\n",
       "    <tr>\n",
       "      <th>36</th>\n",
       "      <td>48</td>\n",
       "      <td>34</td>\n",
       "      <td>33.844060</td>\n",
       "    </tr>\n",
       "    <tr>\n",
       "      <th>37</th>\n",
       "      <td>23</td>\n",
       "      <td>12</td>\n",
       "      <td>12.762761</td>\n",
       "    </tr>\n",
       "    <tr>\n",
       "      <th>38</th>\n",
       "      <td>19</td>\n",
       "      <td>12</td>\n",
       "      <td>9.389753</td>\n",
       "    </tr>\n",
       "    <tr>\n",
       "      <th>39</th>\n",
       "      <td>33</td>\n",
       "      <td>12</td>\n",
       "      <td>21.195281</td>\n",
       "    </tr>\n",
       "    <tr>\n",
       "      <th>40</th>\n",
       "      <td>25</td>\n",
       "      <td>17</td>\n",
       "      <td>14.449265</td>\n",
       "    </tr>\n",
       "    <tr>\n",
       "      <th>41</th>\n",
       "      <td>21</td>\n",
       "      <td>9</td>\n",
       "      <td>11.076257</td>\n",
       "    </tr>\n",
       "    <tr>\n",
       "      <th>42</th>\n",
       "      <td>16</td>\n",
       "      <td>8</td>\n",
       "      <td>6.859997</td>\n",
       "    </tr>\n",
       "  </tbody>\n",
       "</table>\n",
       "</div>"
      ],
      "text/plain": [
       "    Climate Change  Actual Global Warming  Predicted Global Warming\n",
       "0               19                      7                  9.389753\n",
       "1              100                     71                 77.693161\n",
       "2               22                     14                 11.919509\n",
       "3               24                     11                 13.606013\n",
       "4               14                      7                  5.173494\n",
       "5               43                     29                 29.627800\n",
       "6               27                     18                 16.135769\n",
       "7               19                     10                  9.389753\n",
       "8               23                     16                 12.762761\n",
       "9               28                     18                 16.979021\n",
       "10              31                     19                 19.508777\n",
       "11              23                     11                 12.762761\n",
       "12              25                     12                 14.449265\n",
       "13              21                     13                 11.076257\n",
       "14              44                     30                 30.471052\n",
       "15              24                      8                 13.606013\n",
       "16              13                      8                  4.330242\n",
       "17              36                     25                 23.725036\n",
       "18              20                     10                 10.233005\n",
       "19              27                     13                 16.135769\n",
       "20              30                     11                 18.665525\n",
       "21              13                      5                  4.330242\n",
       "22              15                      6                  6.016746\n",
       "23              46                     13                 32.157556\n",
       "24              34                     15                 22.038532\n",
       "25              22                     14                 11.919509\n",
       "26              14                      7                  5.173494\n",
       "27              29                     22                 17.822273\n",
       "28              30                     19                 18.665525\n",
       "29              77                     44                 58.298366\n",
       "30              15                     10                  6.016746\n",
       "31              52                     35                 37.217068\n",
       "32              23                     12                 12.762761\n",
       "33              28                     18                 16.979021\n",
       "34              21                     11                 11.076257\n",
       "35              31                     11                 19.508777\n",
       "36              48                     34                 33.844060\n",
       "37              23                     12                 12.762761\n",
       "38              19                     12                  9.389753\n",
       "39              33                     12                 21.195281\n",
       "40              25                     17                 14.449265\n",
       "41              21                      9                 11.076257\n",
       "42              16                      8                  6.859997"
      ]
     },
     "execution_count": 43,
     "metadata": {},
     "output_type": "execute_result"
    }
   ],
   "source": [
    "check"
   ]
  },
  {
   "cell_type": "markdown",
   "metadata": {},
   "source": [
    "### Visualize the regressor line"
   ]
  },
  {
   "cell_type": "code",
   "execution_count": 44,
   "metadata": {},
   "outputs": [
    {
     "data": {
      "text/plain": [
       "Text(0.5, 1.0, 'Global Warming vs Climate Change (training)')"
      ]
     },
     "execution_count": 44,
     "metadata": {},
     "output_type": "execute_result"
    },
    {
     "data": {
      "image/png": "[encoded data removed]",
      "text/plain": [
       "<Figure size 432x288 with 1 Axes>"
      ]
     },
     "metadata": {
      "needs_background": "light"
     },
     "output_type": "display_data"
    }
   ],
   "source": [
    "plt.scatter(x,y,color='blue')\n",
    "plt.plot(x_test,y_pred,color='red')\n",
    "plt.ylabel('Global Warming %')\n",
    "plt.xlabel('Climate Change %')\n",
    "plt.title('Global Warming vs Climate Change (training)')"
   ]
  },
  {
   "cell_type": "code",
   "execution_count": 45,
   "metadata": {
    "scrolled": true
   },
   "outputs": [
    {
     "data": {
      "text/plain": [
       "Text(0.5, 1.0, 'Global Warming vs Climate Change (testing)')"
      ]
     },
     "execution_count": 45,
     "metadata": {},
     "output_type": "execute_result"
    },
    {
     "data": {
      "image/png": "[encoded data removed]",
      "text/plain": [
       "<Figure size 432x288 with 1 Axes>"
      ]
     },
     "metadata": {
      "needs_background": "light"
     },
     "output_type": "display_data"
    }
   ],
   "source": [
    "plt.scatter(x_test,y_test,color='red')\n",
    "plt.plot(x_test,y_pred,color='blue')\n",
    "plt.ylabel('Global Warming %')\n",
    "plt.xlabel('Climate Change %')\n",
    "plt.title('Global Warming vs Climate Change (testing)')"
   ]
  },
  {
   "cell_type": "code",
   "execution_count": null,
   "metadata": {},
   "outputs": [],
   "source": []
  }
 ],
 "metadata": {
  "kernelspec": {
   "display_name": "Python 3",
   "language": "python",
   "name": "python3"
  },
  "language_info": {
   "codemirror_mode": {
    "name": "ipython",
    "version": 3
   },
   "file_extension": ".py",
   "mimetype": "text/x-python",
   "name": "python",
   "nbconvert_exporter": "python",
   "pygments_lexer": "ipython3",
   "version": "3.8.5"
  }
 },
 "nbformat": 4,
 "nbformat_minor": 5
}
